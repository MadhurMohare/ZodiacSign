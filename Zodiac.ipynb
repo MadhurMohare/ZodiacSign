{
  "nbformat": 4,
  "nbformat_minor": 0,
  "metadata": {
    "colab": {
      "provenance": [],
      "authorship_tag": "ABX9TyNd/vDgMaW/0eXsPJ3GxVrZ",
      "include_colab_link": true
    },
    "kernelspec": {
      "name": "python3",
      "display_name": "Python 3"
    },
    "language_info": {
      "name": "python"
    }
  },
  "cells": [
    {
      "cell_type": "markdown",
      "metadata": {
        "id": "view-in-github",
        "colab_type": "text"
      },
      "source": [
        "<a href=\"https://colab.research.google.com/github/MadhurMohare/ZodiacSign/blob/main/Zodiac.ipynb\" target=\"_parent\"><img src=\"https://colab.research.google.com/assets/colab-badge.svg\" alt=\"Open In Colab\"/></a>"
      ]
    },
    {
      "cell_type": "markdown",
      "source": [
        "ZODIAC"
      ],
      "metadata": {
        "id": "xJ7hQvvzsMMN"
      }
    },
    {
      "cell_type": "code",
      "execution_count": 4,
      "metadata": {
        "id": "jQ3kGCqxsJgq"
      },
      "outputs": [],
      "source": [
        "import pandas as pd\n",
        "\n",
        "def zodiac():\n",
        "  Name = input(\"Enter your name: \")\n",
        "  DOB = input(\"Enter your date of birth (dd/mm/yyyy): \")\n",
        "  zodiacSign = \"\"\n",
        "  day = DOB.split(\"/\")[0]\n",
        "  month = DOB.split(\"/\")[1]\n",
        "\n",
        "  if month == \"12\":\n",
        "    zodiacSign = \"Sagittarius\" if (int(day) < 22) else \"Capricorn\"\n",
        "  elif month == \"01\":\n",
        "    zodiacSign = \"Capricorn\" if (int(day) < 20) else \"Aquarius\"\n",
        "  elif month == \"02\":\n",
        "    zodiacSign = \"Aquarius\" if (int(day) < 19) else \"Pisces\"\n",
        "  elif month == \"03\":\n",
        "    zodiacSign = \"Pisces\" if (int(day) < 21) else \"Aries\"\n",
        "  elif month == \"04\":\n",
        "    zodiacSign = \"Aries\" if (int(day) < 20) else \"Taurus\"\n",
        "  elif month == \"05\":\n",
        "    zodiacSign = \"Taurus\" if (int(day) < 21) else \"Gemini\"\n",
        "  elif month == \"06\":\n",
        "    zodiacSign = \"Gemini\" if (int(day) < 21) else \"Cancer\"\n",
        "  elif month == \"07\":\n",
        "    zodiacSign = \"Cancer\" if (int(day) < 23) else \"Leo\"\n",
        "  elif month == \"08\":\n",
        "    zodiacSign = \"Leo\" if (int(day) < 23) else \"Virgo\"\n",
        "  elif month == \"09\":\n",
        "    zodiacSign = \"Virgo\" if (int(day) < 23) else \"Libra\"\n",
        "  elif month == \"10\":\n",
        "    zodiacSign = \"Libra\" if (int(day) < 23) else \"Scorpio\"\n",
        "  elif month == \"11\":\n",
        "    zodiacSign = \"Scorpio\" if (int(day) < 22) else \"Sagittarius\"\n",
        "  df = pd.DataFrame({\"Name\": [Name], \"DOB\": [DOB], \"Zodiac Sign\": [zodiacSign]})\n",
        "  try:\n",
        "    existingdf = pd.read_csv(\"zodiac.csv\")\n",
        "    newdf = pd.concat([existingdf, df], ignore_index=True)\n",
        "    newdf.to_csv(\"zodiac.csv\", index=False)\n",
        "  except FileNotFoundError:\n",
        "    df.to_csv(\"zodiac.csv\", index=False)\n",
        "  return df"
      ]
    },
    {
      "cell_type": "code",
      "source": [
        "zodiac()"
      ],
      "metadata": {
        "colab": {
          "base_uri": "https://localhost:8080/",
          "height": 115
        },
        "id": "x-gagvawui-o",
        "outputId": "907dd5ff-d41a-4a6d-ee6d-18f27b89a09d"
      },
      "execution_count": 6,
      "outputs": [
        {
          "name": "stdout",
          "output_type": "stream",
          "text": [
            "Enter your name: TEST\n",
            "Enter your date of birth (dd/mm/yyyy): 01/01/2000\n"
          ]
        },
        {
          "output_type": "execute_result",
          "data": {
            "text/plain": [
              "   Name         DOB Zodiac Sign\n",
              "0  TEST  01/01/2000   Capricorn"
            ],
            "text/html": [
              "\n",
              "  <div id=\"df-59cbe35a-9811-41bc-9168-83dfc758d476\" class=\"colab-df-container\">\n",
              "    <div>\n",
              "<style scoped>\n",
              "    .dataframe tbody tr th:only-of-type {\n",
              "        vertical-align: middle;\n",
              "    }\n",
              "\n",
              "    .dataframe tbody tr th {\n",
              "        vertical-align: top;\n",
              "    }\n",
              "\n",
              "    .dataframe thead th {\n",
              "        text-align: right;\n",
              "    }\n",
              "</style>\n",
              "<table border=\"1\" class=\"dataframe\">\n",
              "  <thead>\n",
              "    <tr style=\"text-align: right;\">\n",
              "      <th></th>\n",
              "      <th>Name</th>\n",
              "      <th>DOB</th>\n",
              "      <th>Zodiac Sign</th>\n",
              "    </tr>\n",
              "  </thead>\n",
              "  <tbody>\n",
              "    <tr>\n",
              "      <th>0</th>\n",
              "      <td>TEST</td>\n",
              "      <td>01/01/2000</td>\n",
              "      <td>Capricorn</td>\n",
              "    </tr>\n",
              "  </tbody>\n",
              "</table>\n",
              "</div>\n",
              "    <div class=\"colab-df-buttons\">\n",
              "\n",
              "  <div class=\"colab-df-container\">\n",
              "    <button class=\"colab-df-convert\" onclick=\"convertToInteractive('df-59cbe35a-9811-41bc-9168-83dfc758d476')\"\n",
              "            title=\"Convert this dataframe to an interactive table.\"\n",
              "            style=\"display:none;\">\n",
              "\n",
              "  <svg xmlns=\"http://www.w3.org/2000/svg\" height=\"24px\" viewBox=\"0 -960 960 960\">\n",
              "    <path d=\"M120-120v-720h720v720H120Zm60-500h600v-160H180v160Zm220 220h160v-160H400v160Zm0 220h160v-160H400v160ZM180-400h160v-160H180v160Zm440 0h160v-160H620v160ZM180-180h160v-160H180v160Zm440 0h160v-160H620v160Z\"/>\n",
              "  </svg>\n",
              "    </button>\n",
              "\n",
              "  <style>\n",
              "    .colab-df-container {\n",
              "      display:flex;\n",
              "      gap: 12px;\n",
              "    }\n",
              "\n",
              "    .colab-df-convert {\n",
              "      background-color: #E8F0FE;\n",
              "      border: none;\n",
              "      border-radius: 50%;\n",
              "      cursor: pointer;\n",
              "      display: none;\n",
              "      fill: #1967D2;\n",
              "      height: 32px;\n",
              "      padding: 0 0 0 0;\n",
              "      width: 32px;\n",
              "    }\n",
              "\n",
              "    .colab-df-convert:hover {\n",
              "      background-color: #E2EBFA;\n",
              "      box-shadow: 0px 1px 2px rgba(60, 64, 67, 0.3), 0px 1px 3px 1px rgba(60, 64, 67, 0.15);\n",
              "      fill: #174EA6;\n",
              "    }\n",
              "\n",
              "    .colab-df-buttons div {\n",
              "      margin-bottom: 4px;\n",
              "    }\n",
              "\n",
              "    [theme=dark] .colab-df-convert {\n",
              "      background-color: #3B4455;\n",
              "      fill: #D2E3FC;\n",
              "    }\n",
              "\n",
              "    [theme=dark] .colab-df-convert:hover {\n",
              "      background-color: #434B5C;\n",
              "      box-shadow: 0px 1px 3px 1px rgba(0, 0, 0, 0.15);\n",
              "      filter: drop-shadow(0px 1px 2px rgba(0, 0, 0, 0.3));\n",
              "      fill: #FFFFFF;\n",
              "    }\n",
              "  </style>\n",
              "\n",
              "    <script>\n",
              "      const buttonEl =\n",
              "        document.querySelector('#df-59cbe35a-9811-41bc-9168-83dfc758d476 button.colab-df-convert');\n",
              "      buttonEl.style.display =\n",
              "        google.colab.kernel.accessAllowed ? 'block' : 'none';\n",
              "\n",
              "      async function convertToInteractive(key) {\n",
              "        const element = document.querySelector('#df-59cbe35a-9811-41bc-9168-83dfc758d476');\n",
              "        const dataTable =\n",
              "          await google.colab.kernel.invokeFunction('convertToInteractive',\n",
              "                                                    [key], {});\n",
              "        if (!dataTable) return;\n",
              "\n",
              "        const docLinkHtml = 'Like what you see? Visit the ' +\n",
              "          '<a target=\"_blank\" href=https://colab.research.google.com/notebooks/data_table.ipynb>data table notebook</a>'\n",
              "          + ' to learn more about interactive tables.';\n",
              "        element.innerHTML = '';\n",
              "        dataTable['output_type'] = 'display_data';\n",
              "        await google.colab.output.renderOutput(dataTable, element);\n",
              "        const docLink = document.createElement('div');\n",
              "        docLink.innerHTML = docLinkHtml;\n",
              "        element.appendChild(docLink);\n",
              "      }\n",
              "    </script>\n",
              "  </div>\n",
              "\n",
              "\n",
              "    </div>\n",
              "  </div>\n"
            ],
            "application/vnd.google.colaboratory.intrinsic+json": {
              "type": "dataframe",
              "summary": "{\n  \"name\": \"zodiac()\",\n  \"rows\": 1,\n  \"fields\": [\n    {\n      \"column\": \"Name\",\n      \"properties\": {\n        \"dtype\": \"string\",\n        \"num_unique_values\": 1,\n        \"samples\": [\n          \"TEST\"\n        ],\n        \"semantic_type\": \"\",\n        \"description\": \"\"\n      }\n    },\n    {\n      \"column\": \"DOB\",\n      \"properties\": {\n        \"dtype\": \"object\",\n        \"num_unique_values\": 1,\n        \"samples\": [\n          \"01/01/2000\"\n        ],\n        \"semantic_type\": \"\",\n        \"description\": \"\"\n      }\n    },\n    {\n      \"column\": \"Zodiac Sign\",\n      \"properties\": {\n        \"dtype\": \"string\",\n        \"num_unique_values\": 1,\n        \"samples\": [\n          \"Capricorn\"\n        ],\n        \"semantic_type\": \"\",\n        \"description\": \"\"\n      }\n    }\n  ]\n}"
            }
          },
          "metadata": {},
          "execution_count": 6
        }
      ]
    }
  ]
}